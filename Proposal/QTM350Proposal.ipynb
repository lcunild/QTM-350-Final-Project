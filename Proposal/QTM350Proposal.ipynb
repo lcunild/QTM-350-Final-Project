{
 "cells": [
  {
   "cell_type": "code",
   "execution_count": 1,
   "id": "4cc7bffd",
   "metadata": {},
   "outputs": [
    {
     "name": "stdout",
     "output_type": "stream",
     "text": [
      "TRANSLATE()                                                        TRANSLATE()\r\n",
      "\r\n",
      "\r\n",
      "\r\n",
      "\u001b[1mNAME\u001b[0m\r\n",
      "       translate -\r\n",
      "\r\n",
      "\u001b[1mDESCRIPTION\u001b[0m\r\n",
      "       Provides  translation  between  one  source language and another of the\r\n",
      "       same set of languages.\r\n",
      "\r\n",
      "\u001b[1mAVAILABLE COMMANDS\u001b[0m\r\n",
      "       +\bo create-parallel-data\r\n",
      "\r\n",
      "       +\bo delete-parallel-data\r\n",
      "\r\n",
      "       +\bo delete-terminology\r\n",
      "\r\n",
      "       +\bo describe-text-translation-job\r\n",
      "\r\n",
      "       +\bo get-parallel-data\r\n",
      "\r\n",
      "       +\bo get-terminology\r\n",
      "\r\n",
      "       +\bo help\r\n",
      "\r\n",
      "       +\bo import-terminology\r\n",
      "\r\n",
      "       +\bo list-parallel-data\r\n",
      "\r\n",
      "       +\bo list-terminologies\r\n",
      "\r\n",
      "       +\bo list-text-translation-jobs\r\n",
      "\r\n",
      "       +\bo start-text-translation-job\r\n",
      "\r\n",
      "       +\bo stop-text-translation-job\r\n",
      "\r\n",
      "       +\bo translate-text\r\n",
      "\r\n",
      "       +\bo update-parallel-data\r\n",
      "\r\n",
      "\r\n",
      "\r\n",
      "                                                                   TRANSLATE()\r\n"
     ]
    }
   ],
   "source": [
    "!aws translate help"
   ]
  },
  {
   "cell_type": "code",
   "execution_count": 2,
   "id": "3313e852",
   "metadata": {},
   "outputs": [],
   "source": [
    "import boto3\n",
    "translate = boto3.client(service_name='translate', use_ssl=True)\n",
    "Tweet1 = \"Getting back on my feet after my trip to French Polynesia   Such a cool place\"\n",
    "Tweet2 = \"Dont worry folks  just taking a little break from social media to celebrate my engagement    Ill be back soon\""
   ]
  },
  {
   "cell_type": "code",
   "execution_count": 3,
   "id": "74ae8490",
   "metadata": {},
   "outputs": [],
   "source": [
    "Input1 = translate.translate_text(Text= Tweet1, SourceLanguageCode='auto', TargetLanguageCode= 'es')\n",
    "Input2 = translate.translate_text(Text= Tweet2, SourceLanguageCode='auto', TargetLanguageCode= 'es')"
   ]
  },
  {
   "cell_type": "code",
   "execution_count": 4,
   "id": "23621ad0",
   "metadata": {},
   "outputs": [
    {
     "name": "stdout",
     "output_type": "stream",
     "text": [
      "{'TranslatedText': 'Volviendo a ponerme de pie después de mi viaje a la Polinesia Francesa Un lugar genial', 'SourceLanguageCode': 'en', 'TargetLanguageCode': 'es', 'ResponseMetadata': {'RequestId': '59da3730-9357-4052-a8a2-00b257b606b0', 'HTTPStatusCode': 200, 'HTTPHeaders': {'x-amzn-requestid': '59da3730-9357-4052-a8a2-00b257b606b0', 'cache-control': 'no-cache', 'content-type': 'application/x-amz-json-1.1', 'content-length': '160', 'date': 'Tue, 09 Nov 2021 22:24:42 GMT'}, 'RetryAttempts': 0}}\n"
     ]
    }
   ],
   "source": [
    "print(Input1)"
   ]
  },
  {
   "cell_type": "code",
   "execution_count": 5,
   "id": "0486c194",
   "metadata": {},
   "outputs": [
    {
     "name": "stdout",
     "output_type": "stream",
     "text": [
      "{'TranslatedText': 'No se preocupe, gente, solo se toma un pequeño descanso de las redes sociales para celebrar mi compromiso. Volveré pronto.', 'SourceLanguageCode': 'en', 'TargetLanguageCode': 'es', 'ResponseMetadata': {'RequestId': '7b9bdc08-ed36-4e0f-9fc0-b9d296089712', 'HTTPStatusCode': 200, 'HTTPHeaders': {'x-amzn-requestid': '7b9bdc08-ed36-4e0f-9fc0-b9d296089712', 'cache-control': 'no-cache', 'content-type': 'application/x-amz-json-1.1', 'content-length': '197', 'date': 'Tue, 09 Nov 2021 22:24:42 GMT'}, 'RetryAttempts': 0}}\n"
     ]
    }
   ],
   "source": [
    "print(Input2)"
   ]
  },
  {
   "cell_type": "code",
   "execution_count": 6,
   "id": "c17a5f97",
   "metadata": {},
   "outputs": [],
   "source": [
    "TranslatedTweet1 = \"Volviendo a ponerme de pie después de mi viaje a la Polinesia Francesa Un lugar genial\"\n",
    "TranslatedTweet2 = \"No se preocupe, gente, solo se toma un pequeño descanso de las redes sociales para celebrar mi compromiso. Volveré pronto.\""
   ]
  },
  {
   "cell_type": "code",
   "execution_count": 7,
   "id": "c1d61d0f",
   "metadata": {
    "scrolled": true
   },
   "outputs": [],
   "source": [
    "Output1 = translate.translate_text(Text= TranslatedTweet1, SourceLanguageCode='auto', TargetLanguageCode= 'en')\n",
    "Output2 = translate.translate_text(Text= TranslatedTweet2, SourceLanguageCode='auto', TargetLanguageCode= 'en')"
   ]
  },
  {
   "cell_type": "code",
   "execution_count": 8,
   "id": "9e302b98",
   "metadata": {},
   "outputs": [
    {
     "name": "stdout",
     "output_type": "stream",
     "text": [
      "{'TranslatedText': 'Getting back on my feet after my trip to French Polynesia A great place', 'SourceLanguageCode': 'es', 'TargetLanguageCode': 'en', 'ResponseMetadata': {'RequestId': 'b5b59573-1c51-4b62-8869-ed7b8def1b13', 'HTTPStatusCode': 200, 'HTTPHeaders': {'x-amzn-requestid': 'b5b59573-1c51-4b62-8869-ed7b8def1b13', 'cache-control': 'no-cache', 'content-type': 'application/x-amz-json-1.1', 'content-length': '144', 'date': 'Tue, 09 Nov 2021 22:27:15 GMT'}, 'RetryAttempts': 0}}\n"
     ]
    }
   ],
   "source": [
    "print(Output1)"
   ]
  },
  {
   "cell_type": "code",
   "execution_count": 9,
   "id": "8be39c5f",
   "metadata": {},
   "outputs": [
    {
     "name": "stdout",
     "output_type": "stream",
     "text": [
      "{'TranslatedText': \"Don't worry, folks, you're just taking a little break from social media to celebrate my engagement. I'll be back soon.\", 'SourceLanguageCode': 'es', 'TargetLanguageCode': 'en', 'ResponseMetadata': {'RequestId': '009ba907-66eb-4525-9845-da211b1dfa5d', 'HTTPStatusCode': 200, 'HTTPHeaders': {'x-amzn-requestid': '009ba907-66eb-4525-9845-da211b1dfa5d', 'cache-control': 'no-cache', 'content-type': 'application/x-amz-json-1.1', 'content-length': '191', 'date': 'Tue, 09 Nov 2021 22:27:15 GMT'}, 'RetryAttempts': 0}}\n"
     ]
    }
   ],
   "source": [
    "print(Output2)"
   ]
  }
 ],
 "metadata": {
  "kernelspec": {
   "display_name": "conda_python3",
   "language": "python",
   "name": "conda_python3"
  },
  "language_info": {
   "codemirror_mode": {
    "name": "ipython",
    "version": 3
   },
   "file_extension": ".py",
   "mimetype": "text/x-python",
   "name": "python",
   "nbconvert_exporter": "python",
   "pygments_lexer": "ipython3",
   "version": "3.6.13"
  }
 },
 "nbformat": 4,
 "nbformat_minor": 5
}
