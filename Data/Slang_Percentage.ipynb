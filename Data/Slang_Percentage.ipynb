{
 "cells": [
  {
   "cell_type": "code",
   "execution_count": 263,
   "metadata": {},
   "outputs": [],
   "source": [
    "# import packages\n",
    "import requests\n",
    "import os\n",
    "import json"
   ]
  },
  {
   "cell_type": "code",
   "execution_count": 264,
   "metadata": {},
   "outputs": [],
   "source": [
    "# API key for requests\n",
    "api_key = \"90cd4936-21a2-44c4-8b58-86bf8b16b1fe\""
   ]
  },
  {
   "cell_type": "code",
   "execution_count": 265,
   "metadata": {},
   "outputs": [],
   "source": [
    "# count slang words in tweet\n",
    "count = 0\n",
    "# list of words in the tweet\n",
    "tweetWords = [\"that\",\"is\",\"on\",\"fleek\"]"
   ]
  },
  {
   "cell_type": "code",
   "execution_count": 266,
   "metadata": {},
   "outputs": [],
   "source": [
    "for i in range(len(tweetWords)):\n",
    "    word = tweetWords[i]\n",
    "    r = requests.get(f\"https://www.dictionaryapi.com/api/v3/references/collegiate/json/{word}?key={api_key}\")\n",
    "    dict_dict = r.json()\n",
    "    \n",
    "    try:\n",
    "        for i in range(len(dict_dict)):\n",
    "            if dict_dict[i]['meta']['id'].islower():\n",
    "                if dict_dict[i]['def'][0]['sls'][0] == 'slang':\n",
    "                    count += 1\n",
    "                    break\n",
    "    except:\n",
    "        try:\n",
    "            for i in range(len(dict_dict)):\n",
    "                if dict_dict[i]['meta']['id'].islower():\n",
    "                    if dict_dict[i]['fl'] == 'abbreviation':\n",
    "                        count += 1\n",
    "                        break\n",
    "        except:\n",
    "            try:\n",
    "                dictWord = dict_dict[0]['hwi']['hw']\n",
    "            except:\n",
    "                count += 1"
   ]
  },
  {
   "cell_type": "code",
   "execution_count": 267,
   "metadata": {},
   "outputs": [],
   "source": [
    "slangPercentage = count/len(tweetWords)"
   ]
  },
  {
   "cell_type": "code",
   "execution_count": 268,
   "metadata": {},
   "outputs": [
    {
     "data": {
      "text/plain": [
       "0.25"
      ]
     },
     "execution_count": 268,
     "metadata": {},
     "output_type": "execute_result"
    }
   ],
   "source": [
    "slangPercentage"
   ]
  },
  {
   "cell_type": "code",
   "execution_count": null,
   "metadata": {},
   "outputs": [],
   "source": []
  }
 ],
 "metadata": {
  "kernelspec": {
   "display_name": "Python 3",
   "language": "python",
   "name": "python3"
  },
  "language_info": {
   "codemirror_mode": {
    "name": "ipython",
    "version": 3
   },
   "file_extension": ".py",
   "mimetype": "text/x-python",
   "name": "python",
   "nbconvert_exporter": "python",
   "pygments_lexer": "ipython3",
   "version": "3.8.3"
  }
 },
 "nbformat": 4,
 "nbformat_minor": 4
}
