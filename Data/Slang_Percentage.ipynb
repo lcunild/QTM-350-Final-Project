{
 "cells": [
  {
   "cell_type": "code",
   "execution_count": 302,
   "metadata": {},
   "outputs": [],
   "source": [
    "# import packages\n",
    "import requests\n",
    "import os\n",
    "import json"
   ]
  },
  {
   "cell_type": "code",
   "execution_count": 303,
   "metadata": {},
   "outputs": [],
   "source": [
    "# API key for requests\n",
    "api_key = \"90cd4936-21a2-44c4-8b58-86bf8b16b1fe\""
   ]
  },
  {
   "cell_type": "code",
   "execution_count": 311,
   "metadata": {},
   "outputs": [],
   "source": [
    "file = open(\"TwitterData.txt\", \"r\")\n",
    "textfile = file.read()\n",
    "tweets = textfile.splitlines()\n",
    "while(\"\" in tweets) :\n",
    "    tweets.remove(\"\")"
   ]
  },
  {
   "cell_type": "code",
   "execution_count": 306,
   "metadata": {},
   "outputs": [],
   "source": [
    "# List to save slang percentage of each tweet\n",
    "slangPerc = []"
   ]
  },
  {
   "cell_type": "code",
   "execution_count": 307,
   "metadata": {},
   "outputs": [
    {
     "ename": "JSONDecodeError",
     "evalue": "Expecting value: line 1 column 1 (char 0)",
     "output_type": "error",
     "traceback": [
      "\u001b[0;31m---------------------------------------------------------------------------\u001b[0m",
      "\u001b[0;31mJSONDecodeError\u001b[0m                           Traceback (most recent call last)",
      "\u001b[0;32m<ipython-input-307-2e0580a22c5e>\u001b[0m in \u001b[0;36m<module>\u001b[0;34m\u001b[0m\n\u001b[1;32m      7\u001b[0m         \u001b[0mword\u001b[0m \u001b[0;34m=\u001b[0m \u001b[0mtweetWords\u001b[0m\u001b[0;34m[\u001b[0m\u001b[0mi\u001b[0m\u001b[0;34m]\u001b[0m\u001b[0;34m\u001b[0m\u001b[0;34m\u001b[0m\u001b[0m\n\u001b[1;32m      8\u001b[0m         \u001b[0mr\u001b[0m \u001b[0;34m=\u001b[0m \u001b[0mrequests\u001b[0m\u001b[0;34m.\u001b[0m\u001b[0mget\u001b[0m\u001b[0;34m(\u001b[0m\u001b[0;34mf\"https://www.dictionaryapi.com/api/v3/references/collegiate/json/{word}?key={api_key}\"\u001b[0m\u001b[0;34m)\u001b[0m\u001b[0;34m\u001b[0m\u001b[0;34m\u001b[0m\u001b[0m\n\u001b[0;32m----> 9\u001b[0;31m         \u001b[0mdict_dict\u001b[0m \u001b[0;34m=\u001b[0m \u001b[0mr\u001b[0m\u001b[0;34m.\u001b[0m\u001b[0mjson\u001b[0m\u001b[0;34m(\u001b[0m\u001b[0;34m)\u001b[0m\u001b[0;34m\u001b[0m\u001b[0;34m\u001b[0m\u001b[0m\n\u001b[0m\u001b[1;32m     10\u001b[0m \u001b[0;34m\u001b[0m\u001b[0m\n\u001b[1;32m     11\u001b[0m         \u001b[0;32mtry\u001b[0m\u001b[0;34m:\u001b[0m\u001b[0;34m\u001b[0m\u001b[0;34m\u001b[0m\u001b[0m\n",
      "\u001b[0;32m~/opt/anaconda3/lib/python3.8/site-packages/requests/models.py\u001b[0m in \u001b[0;36mjson\u001b[0;34m(self, **kwargs)\u001b[0m\n\u001b[1;32m    896\u001b[0m                     \u001b[0;31m# used.\u001b[0m\u001b[0;34m\u001b[0m\u001b[0;34m\u001b[0m\u001b[0;34m\u001b[0m\u001b[0m\n\u001b[1;32m    897\u001b[0m                     \u001b[0;32mpass\u001b[0m\u001b[0;34m\u001b[0m\u001b[0;34m\u001b[0m\u001b[0m\n\u001b[0;32m--> 898\u001b[0;31m         \u001b[0;32mreturn\u001b[0m \u001b[0mcomplexjson\u001b[0m\u001b[0;34m.\u001b[0m\u001b[0mloads\u001b[0m\u001b[0;34m(\u001b[0m\u001b[0mself\u001b[0m\u001b[0;34m.\u001b[0m\u001b[0mtext\u001b[0m\u001b[0;34m,\u001b[0m \u001b[0;34m**\u001b[0m\u001b[0mkwargs\u001b[0m\u001b[0;34m)\u001b[0m\u001b[0;34m\u001b[0m\u001b[0;34m\u001b[0m\u001b[0m\n\u001b[0m\u001b[1;32m    899\u001b[0m \u001b[0;34m\u001b[0m\u001b[0m\n\u001b[1;32m    900\u001b[0m     \u001b[0;34m@\u001b[0m\u001b[0mproperty\u001b[0m\u001b[0;34m\u001b[0m\u001b[0;34m\u001b[0m\u001b[0m\n",
      "\u001b[0;32m~/opt/anaconda3/lib/python3.8/json/__init__.py\u001b[0m in \u001b[0;36mloads\u001b[0;34m(s, cls, object_hook, parse_float, parse_int, parse_constant, object_pairs_hook, **kw)\u001b[0m\n\u001b[1;32m    355\u001b[0m             \u001b[0mparse_int\u001b[0m \u001b[0;32mis\u001b[0m \u001b[0;32mNone\u001b[0m \u001b[0;32mand\u001b[0m \u001b[0mparse_float\u001b[0m \u001b[0;32mis\u001b[0m \u001b[0;32mNone\u001b[0m \u001b[0;32mand\u001b[0m\u001b[0;34m\u001b[0m\u001b[0;34m\u001b[0m\u001b[0m\n\u001b[1;32m    356\u001b[0m             parse_constant is None and object_pairs_hook is None and not kw):\n\u001b[0;32m--> 357\u001b[0;31m         \u001b[0;32mreturn\u001b[0m \u001b[0m_default_decoder\u001b[0m\u001b[0;34m.\u001b[0m\u001b[0mdecode\u001b[0m\u001b[0;34m(\u001b[0m\u001b[0ms\u001b[0m\u001b[0;34m)\u001b[0m\u001b[0;34m\u001b[0m\u001b[0;34m\u001b[0m\u001b[0m\n\u001b[0m\u001b[1;32m    358\u001b[0m     \u001b[0;32mif\u001b[0m \u001b[0mcls\u001b[0m \u001b[0;32mis\u001b[0m \u001b[0;32mNone\u001b[0m\u001b[0;34m:\u001b[0m\u001b[0;34m\u001b[0m\u001b[0;34m\u001b[0m\u001b[0m\n\u001b[1;32m    359\u001b[0m         \u001b[0mcls\u001b[0m \u001b[0;34m=\u001b[0m \u001b[0mJSONDecoder\u001b[0m\u001b[0;34m\u001b[0m\u001b[0;34m\u001b[0m\u001b[0m\n",
      "\u001b[0;32m~/opt/anaconda3/lib/python3.8/json/decoder.py\u001b[0m in \u001b[0;36mdecode\u001b[0;34m(self, s, _w)\u001b[0m\n\u001b[1;32m    335\u001b[0m \u001b[0;34m\u001b[0m\u001b[0m\n\u001b[1;32m    336\u001b[0m         \"\"\"\n\u001b[0;32m--> 337\u001b[0;31m         \u001b[0mobj\u001b[0m\u001b[0;34m,\u001b[0m \u001b[0mend\u001b[0m \u001b[0;34m=\u001b[0m \u001b[0mself\u001b[0m\u001b[0;34m.\u001b[0m\u001b[0mraw_decode\u001b[0m\u001b[0;34m(\u001b[0m\u001b[0ms\u001b[0m\u001b[0;34m,\u001b[0m \u001b[0midx\u001b[0m\u001b[0;34m=\u001b[0m\u001b[0m_w\u001b[0m\u001b[0;34m(\u001b[0m\u001b[0ms\u001b[0m\u001b[0;34m,\u001b[0m \u001b[0;36m0\u001b[0m\u001b[0;34m)\u001b[0m\u001b[0;34m.\u001b[0m\u001b[0mend\u001b[0m\u001b[0;34m(\u001b[0m\u001b[0;34m)\u001b[0m\u001b[0;34m)\u001b[0m\u001b[0;34m\u001b[0m\u001b[0;34m\u001b[0m\u001b[0m\n\u001b[0m\u001b[1;32m    338\u001b[0m         \u001b[0mend\u001b[0m \u001b[0;34m=\u001b[0m \u001b[0m_w\u001b[0m\u001b[0;34m(\u001b[0m\u001b[0ms\u001b[0m\u001b[0;34m,\u001b[0m \u001b[0mend\u001b[0m\u001b[0;34m)\u001b[0m\u001b[0;34m.\u001b[0m\u001b[0mend\u001b[0m\u001b[0;34m(\u001b[0m\u001b[0;34m)\u001b[0m\u001b[0;34m\u001b[0m\u001b[0;34m\u001b[0m\u001b[0m\n\u001b[1;32m    339\u001b[0m         \u001b[0;32mif\u001b[0m \u001b[0mend\u001b[0m \u001b[0;34m!=\u001b[0m \u001b[0mlen\u001b[0m\u001b[0;34m(\u001b[0m\u001b[0ms\u001b[0m\u001b[0;34m)\u001b[0m\u001b[0;34m:\u001b[0m\u001b[0;34m\u001b[0m\u001b[0;34m\u001b[0m\u001b[0m\n",
      "\u001b[0;32m~/opt/anaconda3/lib/python3.8/json/decoder.py\u001b[0m in \u001b[0;36mraw_decode\u001b[0;34m(self, s, idx)\u001b[0m\n\u001b[1;32m    353\u001b[0m             \u001b[0mobj\u001b[0m\u001b[0;34m,\u001b[0m \u001b[0mend\u001b[0m \u001b[0;34m=\u001b[0m \u001b[0mself\u001b[0m\u001b[0;34m.\u001b[0m\u001b[0mscan_once\u001b[0m\u001b[0;34m(\u001b[0m\u001b[0ms\u001b[0m\u001b[0;34m,\u001b[0m \u001b[0midx\u001b[0m\u001b[0;34m)\u001b[0m\u001b[0;34m\u001b[0m\u001b[0;34m\u001b[0m\u001b[0m\n\u001b[1;32m    354\u001b[0m         \u001b[0;32mexcept\u001b[0m \u001b[0mStopIteration\u001b[0m \u001b[0;32mas\u001b[0m \u001b[0merr\u001b[0m\u001b[0;34m:\u001b[0m\u001b[0;34m\u001b[0m\u001b[0;34m\u001b[0m\u001b[0m\n\u001b[0;32m--> 355\u001b[0;31m             \u001b[0;32mraise\u001b[0m \u001b[0mJSONDecodeError\u001b[0m\u001b[0;34m(\u001b[0m\u001b[0;34m\"Expecting value\"\u001b[0m\u001b[0;34m,\u001b[0m \u001b[0ms\u001b[0m\u001b[0;34m,\u001b[0m \u001b[0merr\u001b[0m\u001b[0;34m.\u001b[0m\u001b[0mvalue\u001b[0m\u001b[0;34m)\u001b[0m \u001b[0;32mfrom\u001b[0m \u001b[0;32mNone\u001b[0m\u001b[0;34m\u001b[0m\u001b[0;34m\u001b[0m\u001b[0m\n\u001b[0m\u001b[1;32m    356\u001b[0m         \u001b[0;32mreturn\u001b[0m \u001b[0mobj\u001b[0m\u001b[0;34m,\u001b[0m \u001b[0mend\u001b[0m\u001b[0;34m\u001b[0m\u001b[0;34m\u001b[0m\u001b[0m\n",
      "\u001b[0;31mJSONDecodeError\u001b[0m: Expecting value: line 1 column 1 (char 0)"
     ]
    }
   ],
   "source": [
    "for i in range(len(tweets)):\n",
    "    # count slang words in tweet\n",
    "    count = 0\n",
    "    # list of words in the tweet\n",
    "    tweetWords = tweets[i]\n",
    "    for i in range(len(tweetWords)):\n",
    "        word = tweetWords[i]\n",
    "        r = requests.get(f\"https://www.dictionaryapi.com/api/v3/references/collegiate/json/{word}?key={api_key}\")\n",
    "        dict_dict = r.json()\n",
    "\n",
    "        try:\n",
    "            for i in range(len(dict_dict)):\n",
    "                if dict_dict[i]['meta']['id'].islower():\n",
    "                    if dict_dict[i]['def'][0]['sls'][0] == 'slang':\n",
    "                        count += 1\n",
    "                        break\n",
    "        except:\n",
    "            try:\n",
    "                for i in range(len(dict_dict)):\n",
    "                    if dict_dict[i]['meta']['id'].islower():\n",
    "                        if dict_dict[i]['fl'] == 'abbreviation':\n",
    "                            count += 1\n",
    "                            break\n",
    "            except:\n",
    "                try:\n",
    "                    dictWord = dict_dict[0]['hwi']['hw']\n",
    "                except:\n",
    "                    count += 1\n",
    "    slangPerc.append(count/len(tweetWords))"
   ]
  },
  {
   "cell_type": "code",
   "execution_count": 309,
   "metadata": {},
   "outputs": [
    {
     "data": {
      "text/plain": [
       "26"
      ]
     },
     "execution_count": 309,
     "metadata": {},
     "output_type": "execute_result"
    }
   ],
   "source": [
    "len(slangPerc)"
   ]
  },
  {
   "cell_type": "code",
   "execution_count": 299,
   "metadata": {},
   "outputs": [],
   "source": [
    "file = open(\"TwitterData.txt\", \"r\")\n",
    "textfile = file.read()\n",
    "tweets = textfile.splitlines()\n",
    "while(\"\" in tweets) :\n",
    "    tweets.remove(\"\")"
   ]
  },
  {
   "cell_type": "code",
   "execution_count": 310,
   "metadata": {},
   "outputs": [
    {
     "data": {
      "text/plain": [
       "['Thanks DaveChappelle for having me the other night in Minneapolis  what a night',\n",
       " 'BieberWAVE 111821 6pm PTSign up at TheWaveXR Sign up',\n",
       " 'This is my brother DevoTaylorDrums You such an amazing person You inspire me everyday',\n",
       " 'RoryKramer',\n",
       " 'RoryKramer',\n",
       " 'RoryKramer',\n",
       " 'RoryKramer',\n",
       " 'RoryKramer',\n",
       " 'RoryKramer',\n",
       " 'RoryKramer',\n",
       " 'Sometimes theyre a little 2dimensional',\n",
       " 'I have all their albums',\n",
       " 'lexfridman Zero is a cool concept',\n",
       " 'lexfridman Nothing matters',\n",
       " 'WholeMarsBlog 11 lifetimes ago',\n",
       " 'SciGuySpace Dragon enters like a shooting star',\n",
       " 'RT SpaceX Crew2 astronauts have donned their spacesuits ahead of Dragons reentry into the Earths atmosphere',\n",
       " 'skorusARK Really just comes down to iron  cathode for medium range vehicles amp stationary storage vs nickel cathode for long range vehicles',\n",
       " 'RT NASA This is what teamwork sounds likeAs SpaceXs Crew Dragon Endeavour begins its flyaround of the Space_Station Astro_Sabot s',\n",
       " 'mishaboar Important',\n",
       " 'I feel your hearts and you feel mine  that much I know is true',\n",
       " 'FreeBritney movement  I have no words  because of you guys and your constant resilience in freeing me from my conservatorship  my life is now in that direction  I cried last night for two hours cause my fans are the best and I know it',\n",
       " 'Getting back on my feet after my trip to French Polynesia   Such a cool place',\n",
       " 'Dont worry folks  just taking a little break from social media to celebrate my engagement    Ill be back soon',\n",
       " 'Pssss this is me celebrating by horseback riding and doing cartwheels today   FreeBritney',\n",
       " 'Coming along folks  coming along  New with real representation today  I feel GRATITUDE and BLESSED  Thank you to my fans who are supporting me  You have no idea what it means to me be supported by such awesome fans  God bless you all',\n",
       " 'Bringing it back to the 2000s when everything was simpler before social media  Should I bring these outfits back   PS I copied Reese Witherspoon',\n",
       " 'We all have our own ways to work on our bodies and I respect that cause we all should  I just hope I dont see an InNOut Burger any time soon',\n",
       " 'like last night when I ate a container of peanuts   And then it hit me  I might look better but I felt too vulnerable in my skin being this small  I didnt like it so I started boxing so now I feel stronger too',\n",
       " 'In the past two weeks Ive said thats it  I have got to get in shape considering my boyfriends body is hotter than hot   I was like SHIT where the hell am I supposed to start   so I run a lot and try to eat clean and be mindful with my food unless I cheat',\n",
       " 'RT LJFamFoundation From keeping a promise to graduate from high school to accepting a new challenge of graduating from college  Marce',\n",
       " 'RT LJFamFoundation I Promise Seniors this is for you  uakron has created the Zips I Promise Scholarship as an additional opportunity',\n",
       " 'Real life StepBrothers',\n",
       " 'shoe',\n",
       " 'Facts Thats was absurd That player if the show was on the other foot would have been thrown out the game suspended fined and depending on the player possibly CUT from the team',\n",
       " 'Rubio going INSANE in the garden right now',\n",
       " 'Lets Goooooooo FAMUAthletics',\n",
       " 'djstephfloss',\n",
       " 'BrysonAdair A flat out dog Love him',\n",
       " 'Man get these boys out of here Browns',\n",
       " 'KANYE 2024',\n",
       " 'I VOTED',\n",
       " 'KANYE2020',\n",
       " 'The first vote of my life         We are here to serve      We pray for every servant leader in the world',\n",
       " 'KEEP BELIEVING KANYE 2020    Thank you Jesus Christ',\n",
       " 'Favs',\n",
       " 'We will heal We will cure',\n",
       " 'God is so good  Today I am voting for the first time in my life for the President of the United States and its for someone I truly trustme',\n",
       " 'I channel Will Ferrel when Im at the daddy daughter dances',\n",
       " 'the RIH  ISSUE  cop these limited edition color vinyl  exclusive merch sets before dey gon preorder now at',\n",
       " 'todays kids will never know what vinyl is  they said theRIHissue',\n",
       " 'holiday szn bout to be Xtra afTisTheSavage',\n",
       " 'D  S  4',\n",
       " 'the Gunnaz',\n",
       " 'RT SavageXFenty AYE RihannaNavy where u at We need UR HELP TO SNATCHtrophies that is   Vote for the SAVAGEXFENTYSHOW VOL',\n",
       " 'if you woke up latethis for you',\n",
       " 'yerrrrrr  SavageXFenty',\n",
       " 'whats another word for Savage RIHLENTLESS its giving very phuck yo marketing team SavageXFenty PrimeVideo',\n",
       " 'November 12 Remember it SadieSink dylanobrien',\n",
       " 'cant talk right now Im doin hot squirrel shit   halloween2021  HalloweenTaylorsVersion',\n",
       " 'Darling lets run',\n",
       " 'Got some news that I think youre gonna like  My version of Red will be out a week earlier than scheduled including the 4 disc vinyl on November 12th  Cant wait to celebrate the 13th with you and our newold autumn heartbreak album',\n",
       " 'Its true I signed them all and its also true that I may never write the same again as my hand is now frozen in the permanent shape of a claw All for you',\n",
       " 'Hi Saw you guys got Wildest Dreams trending on tiktok thought you should have my version',\n",
       " 'arloparks MercuryPrize This is so well deserved Your album is stunning',\n",
       " 'What a beautiful moment CONGRATULATIONS ANITA',\n",
       " 'Im blown away by halseys artistry and commitment to taking risks Giving us all a brave new era to dive into and explore together If I cant have love I want power is out now please stream and buy the album',\n",
       " 'My buddy aaron_dessner got us all together to make how long do you think its gonna last and it would be very smileinducing for us if you checked it out  BRMadjv',\n",
       " 'Very emotional day here and on set as we officially dedicated our Scare Tunnel to MsSarahPaulson',\n",
       " 'TheEllenShow is nominated for DaytimeTalkShow at the PCAs one last time All votes submitted today will be doubled and you can vote 25 times per day so that meanscarry the onea whole lot of votes Cast them by retweeting this or clicking the link',\n",
       " 'Happy WorldPianistDay',\n",
       " 'SalmaHayek talks about her house being haunted',\n",
       " 'Benwe65 cher ladygaga Youre not alone and never forget that the world needs you right here',\n",
       " 'You know another great way to save daylight Not messing up everyones sleep schedule twice a year DaylightSavings',\n",
       " 'Stop scrolling and drink some water',\n",
       " 'RT OhBubble Its the Momsplaining Season 6 Finale We put together the best of the best for you in this weeks episode so you best en',\n",
       " 'Watch NicoleScherzy TiffanyHaddish and Workaholics UncleBlazer try to guess which of my audience members are talented in DanceSingOrNeitherThing',\n",
       " 'TiffanyHaddish and NicoleScherzy want to talk to you about Sexercise',\n",
       " 'COVID19 will not be the last pandemic threat the world faces I spoke to the GrandChallenges community about the ambitious innovation agenda we need to end this crisis and be ready to respond to the next',\n",
       " 'Getting to zero carbon emissions isnt optional After COP26 I am optimistic that we can meet the challenge',\n",
       " 'Im proud that Breakthrough Energy is a part of the First Movers Coalition Our efforts with wef ClimateEnvoy and other partners will help to scale the clean technologies that will become the foundation of our netzero future',\n",
       " 'Demand for syringes has skyrocketed to deliver the COVID19 vaccines Increasing production of autodisable syringes will help ensure low and middleincome countries have the tools they need to deliver routine and COVID vaccines',\n",
       " 'Im grateful for the leadership of our Breakthrough Energy Catalyst public and private sector partners By taking coordinated courageous climate action we can lower Green Premiums and deploy the clean technologies that will help us reach net zero',\n",
       " 'Getting to zero emissions will be the hardest thing people have ever done This was a great conversation about the power of innovation and what the world can accomplish if we work together',\n",
       " 'I was truly inspired to hear Vinisha27738476 speak at COP26 this week Her optimism and passion for innovation makes me hopeful that we can avoid a climate disaster',\n",
       " 'Thank you SecGranholm for your leadership The commitment of ENERGY and the innovate spirit of our National Labs will drive the breakthroughs we need to help the whole world get to NetZero',\n",
       " 'Publicprivate collaborations will be critical to reducing emissions and achieving our 2050 climate goals Our work with MICleanEnergyRD will help us do just that',\n",
       " 'Im excited about Breakthrough Energys expanded work with MICleanEnergyRD Thank you JonathanWNV for your partnership',\n",
       " 'RT Trolls The holidays are better together  Tune in for the allnew animated special DreamWorks Trolls Holiday in Harmony  On NBC 11',\n",
       " 'Bops only',\n",
       " 'RT billboardcharts This weeks top 5 on the Hot100 15 years ago today Oct 14 2006dated chart1 jtimberlake SexyBack2 Ludacr',\n",
       " 'RT beatclub Learn why jtimberlake wanted to join Beatclub',\n",
       " 'SUMMER LOVE OH OKAY',\n",
       " 'FutureSexLoveSounds Timbaland',\n",
       " 'steph_bubblegum',\n",
       " 'FutureSexLoveSounds TOP 3 GO',\n",
       " 'heybrain_ I feel that',\n",
       " 'Weve done some important work since the Paris Agreement was signed six year ago but were still nowhere near where we need to be on climate Watch live from\\xa0COP26\\xa0in Glasgow as I talk about the steps we can take to combat climate change',\n",
       " 'Five years ago the Paris Agreement went into effect Paris provided an important framework in the fight against climate change but it wasnt enough Thats why Ill be speaking in Glasgow on Monday about the road ahead and what young people in particular can do to help',\n",
       " 'Visit  to find your polling location And if you have any questions call the voter hotline at 8333368683',\n",
       " 'Today is Election Day and so much of what we care about is on the ballotfrom access to health care to bringing our economy back from COVID19 to combating climate change We need everybody going out to vote So make a plan to vote and make your voice heard',\n",
       " 'Signing the Paris Agreement to fight climate change was one of my proudest moments in office But it was always a foundation to build on As world leaders gather for COP26 I shared some reflections on the road to Paris and the young activists who are pushing us further',\n",
       " 'In a country as large and diverse as ours progress can often feel frustrating and slow with small victories accompanied by frequent setbacks But once in a while its still possible to take a giant leap forward Thats what the Build Back Better framework represents',\n",
       " 'Climate change isnt a distant environmental issueits already having an immediate impact on our lives including huge national security implications as more communities come under stress',\n",
       " 'When you look at the history of big social movements theyre usually started and sustained by young people who put in the work to make it happen As we look to COP26 Im inspired by the young people using their voices in the fight against climate change',\n",
       " 'It was great to be back in New Jersey Theres too much at stake in this election to sit it out Lets keep New Jersey moving forward by reelecting PhilMurphyNJ and Democrats up and down the ballot Make a plan to vote earlyand get everyone you know to do the same',\n",
       " 'Virginians delivered for me twice and now Im asking them to do it again by electing TerryMcAuliffe as their next governor Every bit of progress in Virginia is at stake in this electionand theres no time to waste Make a plan to vote early at']"
      ]
     },
     "execution_count": 310,
     "metadata": {},
     "output_type": "execute_result"
    }
   ],
   "source": []
  },
  {
   "cell_type": "code",
   "execution_count": null,
   "metadata": {},
   "outputs": [],
   "source": []
  }
 ],
 "metadata": {
  "kernelspec": {
   "display_name": "Python 3",
   "language": "python",
   "name": "python3"
  },
  "language_info": {
   "codemirror_mode": {
    "name": "ipython",
    "version": 3
   },
   "file_extension": ".py",
   "mimetype": "text/x-python",
   "name": "python",
   "nbconvert_exporter": "python",
   "pygments_lexer": "ipython3",
   "version": "3.8.3"
  }
 },
 "nbformat": 4,
 "nbformat_minor": 4
}
