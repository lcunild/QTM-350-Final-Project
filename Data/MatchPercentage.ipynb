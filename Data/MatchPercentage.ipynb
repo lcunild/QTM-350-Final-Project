{
 "cells": [
  {
   "cell_type": "code",
   "execution_count": 2,
   "metadata": {},
   "outputs": [],
   "source": [
    "# import packages\n",
    "import requests\n",
    "import os\n",
    "import json\n",
    "import re"
   ]
  },
  {
   "cell_type": "code",
   "execution_count": 14,
   "metadata": {},
   "outputs": [],
   "source": [
    "# list of re-translated tweets\n",
    "file = open(\"TranslatedData.txt\", \"r\")\n",
    "textfile = file.read()\n",
    "translatedTweets = textfile.splitlines()\n",
    "while(\"\" in translatedTweets) :\n",
    "    translatedTweets.remove(\"\")"
   ]
  },
  {
   "cell_type": "code",
   "execution_count": 11,
   "metadata": {},
   "outputs": [],
   "source": [
    "# list of original tweets\n",
    "file = open(\"TwitterData.txt\", \"r\")\n",
    "textfile2 = file.read()\n",
    "tweets = textfile2.splitlines()\n",
    "while(\"\" in tweets) :\n",
    "    tweets.remove(\"\")"
   ]
  },
  {
   "cell_type": "code",
   "execution_count": 42,
   "metadata": {},
   "outputs": [],
   "source": [
    "# List to save match percentage of each tweet\n",
    "matchPerc = []\n",
    "# Compares words in re-translated tweet to original tweet\n",
    "for i in range(len(translatedTweets)):\n",
    "    # list of words in original tweet\n",
    "    words = tweets[i].split()\n",
    "    # count matched words in tweet\n",
    "    count = 0\n",
    "    # list of words in the re-translated tweet\n",
    "    tweetWords = translatedTweets[i].split()\n",
    "    # iterate through list to compare each word to English dictionary to check for slang\n",
    "    for j in range(len(tweetWords)):\n",
    "        try:\n",
    "            word1 = tweetWords[j]\n",
    "            word2 = words[j]\n",
    "            if word1.strip().lower() == word2.strip().lower():\n",
    "                count += 1\n",
    "        except:\n",
    "            continue\n",
    "    matchPerc.append(count/len(tweetWords))"
   ]
  },
  {
   "cell_type": "code",
   "execution_count": 43,
   "metadata": {},
   "outputs": [
    {
     "data": {
      "text/plain": [
       "[1.0,\n",
       " 0.3333333333333333,\n",
       " 1.0,\n",
       " 0.95,\n",
       " 0.6428571428571429,\n",
       " 0.0,\n",
       " 0.9230769230769231,\n",
       " 0.3,\n",
       " 0.375,\n",
       " 1.0,\n",
       " 0.5,\n",
       " 0.9230769230769231,\n",
       " 1.0,\n",
       " 0.5,\n",
       " 0.4375,\n",
       " 0.5384615384615384,\n",
       " 0.8,\n",
       " 0.13333333333333333,\n",
       " 0.7777777777777778,\n",
       " 0.5,\n",
       " 0.25,\n",
       " 0.7857142857142857,\n",
       " 0.5909090909090909,\n",
       " 1.0,\n",
       " 0.045454545454545456,\n",
       " 0.45454545454545453,\n",
       " 0.5813953488372093,\n",
       " 0.7916666666666666,\n",
       " 0.7666666666666667,\n",
       " 0.27906976744186046,\n",
       " 1.0]"
      ]
     },
     "execution_count": 43,
     "metadata": {},
     "output_type": "execute_result"
    }
   ],
   "source": [
    "matchPerc"
   ]
  },
  {
   "cell_type": "code",
   "execution_count": null,
   "metadata": {},
   "outputs": [],
   "source": []
  }
 ],
 "metadata": {
  "kernelspec": {
   "display_name": "Python 3",
   "language": "python",
   "name": "python3"
  },
  "language_info": {
   "codemirror_mode": {
    "name": "ipython",
    "version": 3
   },
   "file_extension": ".py",
   "mimetype": "text/x-python",
   "name": "python",
   "nbconvert_exporter": "python",
   "pygments_lexer": "ipython3",
   "version": "3.8.3"
  }
 },
 "nbformat": 4,
 "nbformat_minor": 4
}
