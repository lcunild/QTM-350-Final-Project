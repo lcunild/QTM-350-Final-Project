{
 "cells": [
  {
   "cell_type": "code",
   "execution_count": 43,
   "metadata": {},
   "outputs": [],
   "source": [
    "# import packages\n",
    "import requests\n",
    "import os\n",
    "import json\n",
    "import re\n",
    "import pandas as pd\n",
    "import matplotlib.pyplot as plt\n",
    "import statsmodels.formula.api as smf"
   ]
  },
  {
   "cell_type": "code",
   "execution_count": 44,
   "metadata": {},
   "outputs": [],
   "source": [
    "# import original tweet data\n",
    "file1 = open(\"TwitterData.txt\", \"r\")\n",
    "textfile = file1.read()\n",
    "tweets = textfile.splitlines()\n",
    "while(\"\" in tweets) :\n",
    "    tweets.remove(\"\")"
   ]
  },
  {
   "cell_type": "code",
   "execution_count": 51,
   "metadata": {},
   "outputs": [],
   "source": [
    "def slang(tweets):\n",
    "    # List to save slang percentage of each tweet\n",
    "    slangPerc = []\n",
    "    # LINUX kernel English dictionary\n",
    "    file = open(\"/usr/share/dict/words\", \"r\")\n",
    "    # list of words in English dictionary\n",
    "    words = re.sub(\"[^\\w]\", \" \",  file.read()).split()\n",
    "    # Compares words in tweet to English dictionary to identify slang\n",
    "    for i in range(len(tweets)):\n",
    "        # count slang words in tweet\n",
    "        count = 0\n",
    "        # list of words in the tweet\n",
    "        tweetWords = tweets[i].split()\n",
    "        if len(tweetWords) != 0:\n",
    "            # iterate through list to compare each word to English dictionary to check for slang\n",
    "            for j in range(len(tweetWords)):\n",
    "                word = tweetWords[j]\n",
    "                if word.strip().lower() in words:\n",
    "                    continue\n",
    "                else:\n",
    "                    count += 1\n",
    "            slangPerc.append(count/len(tweetWords))\n",
    "    return slangPerc"
   ]
  },
  {
   "cell_type": "code",
   "execution_count": 54,
   "metadata": {},
   "outputs": [],
   "source": [
    "sp = slang(tweets)"
   ]
  },
  {
   "cell_type": "code",
   "execution_count": 58,
   "metadata": {},
   "outputs": [],
   "source": [
    "# list of re-translated tweets\n",
    "file2 = open(\"TranslatedData.txt\", \"r\")\n",
    "textfile = file2.read()\n",
    "translatedTweets = textfile.splitlines()\n",
    "while(\"\" in translatedTweets) :\n",
    "    translatedTweets.remove(\"\")"
   ]
  },
  {
   "cell_type": "code",
   "execution_count": 1,
   "metadata": {},
   "outputs": [
    {
     "name": "stdout",
     "output_type": "stream",
     "text": [
      "\n",
      "An error occurred (AccessDenied) when calling the ListObjectsV2 operation: Access Denied\n"
     ]
    }
   ],
   "source": [
    "# import Chinese re-translation\n",
    "! aws s3 ls s3://translate-file-portnoy/translate/Chinese/en.zh.TwitterData.txt"
   ]
  },
  {
   "cell_type": "code",
   "execution_count": 61,
   "metadata": {},
   "outputs": [],
   "source": [
    "def match(tweets, translatedTweets):\n",
    "    # List to save match percentage of each tweet\n",
    "    matchPerc = []\n",
    "    # Compares words in re-translated tweet to original tweet\n",
    "    for i in range(len(translatedTweets)):\n",
    "        # list of words in original tweet\n",
    "        words = tweets[i].split()\n",
    "        # count matched words in tweet\n",
    "        count = 0\n",
    "        # list of words in the re-translated tweet\n",
    "        tweetWords = translatedTweets[i].split()\n",
    "        # iterate through list to compare each word to English dictionary to check for slang\n",
    "        for j in range(len(tweetWords)):\n",
    "            try:\n",
    "                word1 = tweetWords[j]\n",
    "                word2 = words[j]\n",
    "                if word1.strip().lower() == word2.strip().lower():\n",
    "                    count += 1\n",
    "            except:\n",
    "                continue\n",
    "        matchPerc.append(count/len(tweetWords))\n",
    "    return matchPerc"
   ]
  },
  {
   "cell_type": "code",
   "execution_count": 63,
   "metadata": {},
   "outputs": [],
   "source": [
    "mp = match(tweets, translatedTweets)"
   ]
  },
  {
   "cell_type": "code",
   "execution_count": 64,
   "metadata": {},
   "outputs": [],
   "source": [
    "# Create dataframe of slang percentage and match percentage for each tweet\n",
    "df = pd.DataFrame(list(zip(sp, mp)), columns =['Slang_Percentage', 'Match_Percentage'])"
   ]
  },
  {
   "cell_type": "code",
   "execution_count": 65,
   "metadata": {},
   "outputs": [
    {
     "data": {
      "text/plain": [
       "Text(0.5, 1.0, 'Distribution of Match Percentage')"
      ]
     },
     "execution_count": 65,
     "metadata": {},
     "output_type": "execute_result"
    },
    {
     "data": {
      "image/png": "[encoded data removed]",
      "text/plain": [
       "<Figure size 432x288 with 1 Axes>"
      ]
     },
     "metadata": {
      "needs_background": "light"
     },
     "output_type": "display_data"
    }
   ],
   "source": [
    "# Histogram to visualise distribution of match percentage data\n",
    "plt.hist(df['Match_Percentage'])\n",
    "plt.xlabel('Match Percentage')\n",
    "plt.ylabel('Number of tweets')\n",
    "plt.title('Distribution of Match Percentage')"
   ]
  },
  {
   "cell_type": "code",
   "execution_count": 71,
   "metadata": {},
   "outputs": [
    {
     "data": {
      "text/plain": [
       "Text(0.5, 1.0, 'Distribution of Slang Percentage')"
      ]
     },
     "execution_count": 71,
     "metadata": {},
     "output_type": "execute_result"
    },
    {
     "data": {
      "image/png": "[encoded data removed]",
      "text/plain": [
       "<Figure size 432x288 with 1 Axes>"
      ]
     },
     "metadata": {
      "needs_background": "light"
     },
     "output_type": "display_data"
    }
   ],
   "source": [
    "# Histogram to visualise distribution of slang percentage data\n",
    "plt.hist(df['Slang_Percentage'])\n",
    "plt.xlabel('Slang Percentage')\n",
    "plt.ylabel('Number of tweets')\n",
    "plt.title('Distribution of Slang Percentage')"
   ]
  },
  {
   "cell_type": "code",
   "execution_count": 66,
   "metadata": {},
   "outputs": [
    {
     "data": {
      "text/plain": [
       "Text(0, 0.5, 'Match Percentage')"
      ]
     },
     "execution_count": 66,
     "metadata": {},
     "output_type": "execute_result"
    },
    {
     "data": {
      "image/png": "[encoded data removed]",
      "text/plain": [
       "<Figure size 432x288 with 1 Axes>"
      ]
     },
     "metadata": {
      "needs_background": "light"
     },
     "output_type": "display_data"
    }
   ],
   "source": [
    "# Plot of match percentage against slang percentage for our data set\n",
    "plt.plot(df['Slang_Percentage'], df['Match_Percentage'], 'o', alpha=0.3, markersize=10)\n",
    "plt.xlabel('Slang Percentage')\n",
    "plt.ylabel('Match Percentage')"
   ]
  },
  {
   "cell_type": "code",
   "execution_count": 67,
   "metadata": {},
   "outputs": [
    {
     "data": {
      "text/html": [
       "<div>\n",
       "<style scoped>\n",
       "    .dataframe tbody tr th:only-of-type {\n",
       "        vertical-align: middle;\n",
       "    }\n",
       "\n",
       "    .dataframe tbody tr th {\n",
       "        vertical-align: top;\n",
       "    }\n",
       "\n",
       "    .dataframe thead th {\n",
       "        text-align: right;\n",
       "    }\n",
       "</style>\n",
       "<table border=\"1\" class=\"dataframe\">\n",
       "  <thead>\n",
       "    <tr style=\"text-align: right;\">\n",
       "      <th></th>\n",
       "      <th>Slang_Percentage</th>\n",
       "      <th>Match_Percentage</th>\n",
       "    </tr>\n",
       "  </thead>\n",
       "  <tbody>\n",
       "    <tr>\n",
       "      <th>Slang_Percentage</th>\n",
       "      <td>1.000000</td>\n",
       "      <td>0.433974</td>\n",
       "    </tr>\n",
       "    <tr>\n",
       "      <th>Match_Percentage</th>\n",
       "      <td>0.433974</td>\n",
       "      <td>1.000000</td>\n",
       "    </tr>\n",
       "  </tbody>\n",
       "</table>\n",
       "</div>"
      ],
      "text/plain": [
       "                  Slang_Percentage  Match_Percentage\n",
       "Slang_Percentage          1.000000          0.433974\n",
       "Match_Percentage          0.433974          1.000000"
      ]
     },
     "execution_count": 67,
     "metadata": {},
     "output_type": "execute_result"
    }
   ],
   "source": [
    "# Correlation between slang percentage and match percentage in our data set\n",
    "df.corr()"
   ]
  },
  {
   "cell_type": "code",
   "execution_count": 68,
   "metadata": {},
   "outputs": [],
   "source": [
    "# OLS regression of match percentage on slang percentage\n",
    "results = smf.ols('Match_Percentage ~ Slang_Percentage', data = df).fit()"
   ]
  },
  {
   "cell_type": "code",
   "execution_count": 69,
   "metadata": {},
   "outputs": [
    {
     "data": {
      "text/plain": [
       "Intercept           0.459521\n",
       "Slang_Percentage    0.509961\n",
       "dtype: float64"
      ]
     },
     "execution_count": 69,
     "metadata": {},
     "output_type": "execute_result"
    }
   ],
   "source": [
    "# Results of OLS regression\n",
    "results.params"
   ]
  },
  {
   "cell_type": "code",
   "execution_count": 70,
   "metadata": {},
   "outputs": [
    {
     "data": {
      "text/plain": [
       "[<matplotlib.lines.Line2D at 0x7fb4b9d24c40>]"
      ]
     },
     "execution_count": 70,
     "metadata": {},
     "output_type": "execute_result"
    },
    {
     "data": {
      "image/png": "[encoded data removed]",
      "text/plain": [
       "<Figure size 432x288 with 1 Axes>"
      ]
     },
     "metadata": {
      "needs_background": "light"
     },
     "output_type": "display_data"
    }
   ],
   "source": [
    "# Plot of data with OLS regression line imposed on top\n",
    "plt.plot(df['Slang_Percentage'], df['Match_Percentage'], 'o', alpha=0.3, markersize=10)\n",
    "plt.plot(df['Slang_Percentage'], results.predict(df['Slang_Percentage']))"
   ]
  },
  {
   "cell_type": "code",
   "execution_count": null,
   "metadata": {},
   "outputs": [],
   "source": []
  }
 ],
 "metadata": {
  "kernelspec": {
   "display_name": "conda_python3",
   "language": "python",
   "name": "conda_python3"
  },
  "language_info": {
   "codemirror_mode": {
    "name": "ipython",
    "version": 3
   },
   "file_extension": ".py",
   "mimetype": "text/x-python",
   "name": "python",
   "nbconvert_exporter": "python",
   "pygments_lexer": "ipython3",
   "version": "3.6.13"
  }
 },
 "nbformat": 4,
 "nbformat_minor": 4
}
