{
 "cells": [
  {
   "cell_type": "code",
   "execution_count": 314,
   "metadata": {},
   "outputs": [],
   "source": [
    "# import packages\n",
    "import requests\n",
    "import os\n",
    "import json\n",
    "import re"
   ]
  },
  {
   "cell_type": "code",
   "execution_count": 311,
   "metadata": {},
   "outputs": [],
   "source": [
    "file = open(\"TwitterData.txt\", \"r\")\n",
    "textfile = file.read()\n",
    "tweets = textfile.splitlines()\n",
    "while(\"\" in tweets) :\n",
    "    tweets.remove(\"\")"
   ]
  },
  {
   "cell_type": "code",
   "execution_count": 353,
   "metadata": {},
   "outputs": [],
   "source": [
    "# List to save slang percentage of each tweet\n",
    "slangPerc = []\n",
    "# LINUX kernel English dictionary\n",
    "file = open(\"/usr/share/dict/words\", \"r\")\n",
    "# list of words in English dictionary\n",
    "words = re.sub(\"[^\\w]\", \" \",  file.read()).split()\n",
    "# Compares words in tweet to English dictionary to identify slang\n",
    "for i in range(len(tweets)):\n",
    "    # count slang words in tweet\n",
    "    count = 0\n",
    "    # list of words in the tweet\n",
    "    tweetWords = tweets[i].split()\n",
    "    # iterate through list to compare each word to English dictionary to check for slang\n",
    "    for i in range(len(tweetWords)):\n",
    "        word = tweetWords[i]\n",
    "        if word.strip().lower() in words:\n",
    "            continue\n",
    "        else:\n",
    "            count += 1\n",
    "    slangPerc.append(count/len(tweetWords))"
   ]
  }
 ],
 "metadata": {
  "kernelspec": {
   "display_name": "Python 3",
   "language": "python",
   "name": "python3"
  },
  "language_info": {
   "codemirror_mode": {
    "name": "ipython",
    "version": 3
   },
   "file_extension": ".py",
   "mimetype": "text/x-python",
   "name": "python",
   "nbconvert_exporter": "python",
   "pygments_lexer": "ipython3",
   "version": "3.8.3"
  }
 },
 "nbformat": 4,
 "nbformat_minor": 4
}
